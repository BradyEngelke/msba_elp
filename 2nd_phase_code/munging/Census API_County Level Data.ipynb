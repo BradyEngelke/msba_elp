{
 "cells": [
  {
   "cell_type": "code",
   "execution_count": 1,
   "metadata": {
    "colab": {},
    "colab_type": "code",
    "id": "Lzhk5l-76xyl"
   },
   "outputs": [],
   "source": [
    "# reference\n",
    "# https://towardsdatascience.com/getting-census-data-in-5-easy-steps-a08eeb63995d\n",
    "# Variable list\n",
    "# Detailed table: https://api.census.gov/data/2018/acs/acs1/variables.html\n",
    "# Subject table: https://api.census.gov/data/2018/acs/acs1/subject/variables.html"
   ]
  },
  {
   "cell_type": "code",
   "execution_count": 2,
   "metadata": {
    "colab": {},
    "colab_type": "code",
    "id": "XXdEgc2X6xyr"
   },
   "outputs": [],
   "source": [
    "#manipulate dataframes in python\n",
    "import pandas as pd\n",
    "\n",
    "#make API calls with python\n",
    "import requests\n",
    "\n",
    "#allows us to store results of API call cleanly\n",
    "import json"
   ]
  },
  {
   "cell_type": "code",
   "execution_count": 3,
   "metadata": {},
   "outputs": [],
   "source": [
    "#display all the columns in dataframe\n",
    "pd.set_option('display.max_columns', None)"
   ]
  },
  {
   "cell_type": "code",
   "execution_count": 4,
   "metadata": {},
   "outputs": [],
   "source": [
    "# Import the variable list that contains the ACS codes of the attributes we want to acquire using API and new attribute name\n",
    "# Since the API varies by table, this file works for attributes in detailed table\n",
    "df = pd.read_csv('ACS Variables_CountyRace_Detailed.csv')"
   ]
  },
  {
   "cell_type": "code",
   "execution_count": 5,
   "metadata": {},
   "outputs": [],
   "source": [
    "# Select ACS codes and turn it into a list\n",
    "var_codes = df['Code'].tolist()\n",
    "\n",
    "# Select attribute name and turn it into a list, this can be self-defined. You can also choose not to rename the variable\n",
    "names = df['Name in Database'].tolist()\n",
    "\n",
    "# Zip the lists above into a dictionary to map the code with attribute name\n",
    "var_name_dct = dict(zip(var_codes, names)) "
   ]
  },
  {
   "cell_type": "code",
   "execution_count": 6,
   "metadata": {},
   "outputs": [],
   "source": [
    "# Define a function to take year, code and attribute name and acquire value using Census API\n",
    "def getAPIdata(year, code, AttrName):\n",
    "    apiKey = '09e7e4a144645fc4e247d25e6477d1a245f561cd' # To use census API, you will need to apply for a key. Please replace the key with yours \n",
    "    year = year # Take the data at that year\n",
    "    var_code = code # Take the attribute using the code\n",
    "    \n",
    "    # This is the base API, here we set Minnesota with code 27, so the API will return all counties\n",
    "    # The %s are placeholder to take time, attribute code and key\n",
    "    # The 1-year estimate only survey counties with over 65K population\n",
    "    baseAPI = \"https://api.census.gov/data/%s/acs/acs1?get=%s&for=county:*&in=state:27&key=%s\"\n",
    "    calledAPI = baseAPI % (year, var_code, apiKey) # Put year, attribute code and key into the placeholders\n",
    "    response = requests.get(calledAPI) # Call API\n",
    "    formattedResponse = json.loads(response.text)[1:] # Load the data into Json format\n",
    "    data = pd.DataFrame(columns=[AttrName, 'state', 'county'], data=formattedResponse) # Transform the data into DataFrame, and select the columns we want\n",
    "    data_by_County  = data[reversed(data.columns)] # Reverse the order of columns\n",
    "    data_by_County[['state', 'county']] = data_by_County[['state', 'county']].astype(str) # Transform the cell value from integar into string format\n",
    "    data_by_County['CountyId'] =data_by_County[['state', 'county']].agg(''.join, axis=1)  # Join state, county and tract code into full CountyId\n",
    "    data_by_County = data_by_County.iloc[: ,[3,2]] # Select the data we need. We take column 2, 3\n",
    "    \n",
    "    return data_by_County\n"
   ]
  },
  {
   "cell_type": "code",
   "execution_count": 247,
   "metadata": {},
   "outputs": [],
   "source": [
    "# Define a function to take year, code and attribute name and acquire value using Census API\n",
    "# This function is used to get data from subject table\n",
    "# Please refer to getAPI function above for the detailed code explanation\n",
    "def getAPIdata_sub(year, code, AttrName):\n",
    "    apiKey = '09e7e4a144645fc4e247d25e6477d1a245f561cd'\n",
    "    year = year\n",
    "    var_code = code\n",
    "    baseAPI = \"https://api.census.gov/data/%s/acs/acs1/subject?get=%s&for=county:*&in=state:*&key=%s\" \n",
    "    calledAPI = baseAPI % (year, var_code, apiKey)\n",
    "    response = requests.get(calledAPI)\n",
    "    formattedResponse = json.loads(response.text)[1:]\n",
    "    data = pd.DataFrame(columns=[AttrName, 'state', 'county'], data=formattedResponse)\n",
    "    data_by_County  = data[reversed(data.columns)]\n",
    "    data_by_County[['state', 'county']] = data_by_County[['state', 'county']].astype(str)\n",
    "    data_by_County['CountyId'] =data_by_County[['state', 'county']].agg(''.join, axis=1)\n",
    "    data_by_County = data_by_County.iloc[: ,[3,2]]\n",
    "    \n",
    "    return data_by_County"
   ]
  },
  {
   "cell_type": "code",
   "execution_count": 8,
   "metadata": {},
   "outputs": [],
   "source": [
    "# Import the variable list that contains the ACS codes of the attributes we want to acquire using API and new attribute name\n",
    "# Since the API varies by table, this file works for attributes in subject table\n",
    "df3 = pd.read_csv('ACS Variables_CountyRace_Subject.csv')\n",
    "# Select ACS codes and turn it into a list\n",
    "var_codes_sub = df3['Code'].tolist()\n",
    "# Select attribute name and turn it into a list, this can be self-defined. You can also choose not to rename the variable\n",
    "names_sub = df3['Name in Database'].tolist()\n",
    "# Zip the lists above into a dictionary to map the code with attribute name\n",
    "var_name_sub_dct = dict(zip(var_codes_sub, names_sub)) "
   ]
  },
  {
   "cell_type": "code",
   "execution_count": 7,
   "metadata": {},
   "outputs": [],
   "source": [
    "# Read an empty file that contains countyId\n",
    "df2 = pd.read_csv('county_FIPS_codes_text.csv', dtype= 'str')\n",
    "df2['CountyId'] = df2[['State Code (FIPS)', 'County Code (FIPS)']].agg(''.join, axis=1)"
   ]
  },
  {
   "cell_type": "code",
   "execution_count": null,
   "metadata": {},
   "outputs": [],
   "source": [
    "# Create a DataFrame to accomondate 2018 data\n",
    "All_data_by_County_2018 = df2[['CountyId', 'Area Name (including legal/statistical area description)']]\n",
    "All_data_by_County_2018.columns = ['CountyId', 'CountyName']\n",
    "\n",
    "# Use a for loop to iterate through all the ACS codes we want\n",
    "for key, value in var_name_dct.items():\n",
    "    data_by_County_2018 = getAPIdata(2018, key, value)\n",
    "    # Merge the new attribute to the existing DataFrame\n",
    "    All_data_by_County_2018 = pd.merge(All_data_by_County_2018, data_by_County_2018, on='CountyId')\n",
    "for key, value in var_name_sub_dct.items():\n",
    "    data_by_County_2018 = getAPIdata_sub(2018, key, value)\n",
    "    # Merge the new attribute to the existing DataFrame\n",
    "    All_data_by_County_2018 = pd.merge(All_data_by_County_2018, data_by_County_2018, on='CountyId')\n",
    "All_data_by_County_2018['Year'] = '2018'"
   ]
  },
  {
   "cell_type": "code",
   "execution_count": 251,
   "metadata": {},
   "outputs": [],
   "source": [
    "# Create a DataFrame to accomondate 2017 data\n",
    "All_data_by_County_2017 = df2[['CountyId', 'Area Name (including legal/statistical area description)']]\n",
    "All_data_by_County_2017.columns = ['CountyId', 'CountyName']\n",
    "for key, value in var_name_dct.items():\n",
    "    data_by_County_2017 = getAPIdata(2017, key, value)\n",
    "    All_data_by_County_2017 = pd.merge(All_data_by_County_2017, data_by_County_2017, on='CountyId')\n",
    "for key, value in var_name_sub_dct.items():\n",
    "    data_by_County_2017 = getAPIdata_sub(2017, key, value)\n",
    "    All_data_by_County_2017 = pd.merge(All_data_by_County_2017, data_by_County_2017, on='CountyId')\n",
    "All_data_by_County_2017['Year'] = '2017'"
   ]
  },
  {
   "cell_type": "code",
   "execution_count": 256,
   "metadata": {},
   "outputs": [],
   "source": [
    "# Create a DataFrame to accomondate 2016 data\n",
    "All_data_by_County_2016 = df2[['CountyId', 'Area Name (including legal/statistical area description)']]\n",
    "All_data_by_County_2016.columns = ['CountyId', 'CountyName']\n",
    "for key, value in var_name_dct.items():\n",
    "    data_by_County_2016 = getAPIdata(2016, key, value)\n",
    "    All_data_by_County_2016 = pd.merge(All_data_by_County_2016, data_by_County_2016, on='CountyId')\n",
    "for key, value in var_name_sub_dct.items():\n",
    "    data_by_County_2016 = getAPIdata_sub(2016, key, value)\n",
    "    All_data_by_County_2016 = pd.merge(All_data_by_County_2016, data_by_County_2016, on='CountyId')\n",
    "All_data_by_County_2016['Year'] = '2016'"
   ]
  },
  {
   "cell_type": "code",
   "execution_count": 257,
   "metadata": {},
   "outputs": [],
   "source": [
    "# Merge 2016-2018 data together\n",
    "frames = [All_data_by_County_2016, All_data_by_County_2017, All_data_by_County_2018]\n",
    "\n",
    "All_data_by_County = pd.concat(frames)"
   ]
  },
  {
   "cell_type": "code",
   "execution_count": 258,
   "metadata": {},
   "outputs": [],
   "source": [
    "# Save that DataFrame to a CSV spreadsheet\n",
    "All_data_by_County.to_csv('All_data_by_County_16_18.csv', index=False)"
   ]
  }
 ],
 "metadata": {
  "colab": {
   "name": "ELP-API.ipynb",
   "provenance": []
  },
  "kernelspec": {
   "display_name": "Python 3",
   "language": "python",
   "name": "python3"
  },
  "language_info": {
   "codemirror_mode": {
    "name": "ipython",
    "version": 3
   },
   "file_extension": ".py",
   "mimetype": "text/x-python",
   "name": "python",
   "nbconvert_exporter": "python",
   "pygments_lexer": "ipython3",
   "version": "3.7.4"
  }
 },
 "nbformat": 4,
 "nbformat_minor": 1
}
