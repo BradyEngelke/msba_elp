{
 "cells": [
  {
   "cell_type": "code",
   "execution_count": 0,
   "metadata": {
    "colab": {},
    "colab_type": "code",
    "id": "Lzhk5l-76xyl"
   },
   "outputs": [],
   "source": [
    "# data list\n",
    "# https://www.countyhealthrankings.org/app/minnesota/2019/downloads"
   ]
  },
  {
   "cell_type": "code",
   "execution_count": 1,
   "metadata": {
    "colab": {},
    "colab_type": "code",
    "id": "XXdEgc2X6xyr"
   },
   "outputs": [],
   "source": [
    "# Import necessary packages\n",
    "import pandas as pd\n",
    "import numpy as np\n",
    "import warnings\n",
    "warnings.filterwarnings(\"ignore\")"
   ]
  },
  {
   "cell_type": "code",
   "execution_count": 2,
   "metadata": {},
   "outputs": [],
   "source": [
    "#display all the columns in dataframe\n",
    "pd.set_option('display.max_columns', None)"
   ]
  },
  {
   "cell_type": "code",
   "execution_count": 53,
   "metadata": {},
   "outputs": [],
   "source": [
    "# Define a function that takes a the downloaded file from County Health Ranking website and the corresponding year\n",
    "def county_data_16(filename, year):\n",
    "    data1 = pd.read_excel(filename, sheet_name = 'Ranked Measure Data', skiprows = 1) # Read the ranked measure data tab\n",
    "    data2 = pd.read_excel(filename, sheet_name = 'Additional Measure Data', skiprows = 1) # Read the additional measure data tab\n",
    "    variables = pd.read_csv('CH_variable.csv') # Read the variable list we want, this can be self-defined\n",
    "    data_full = pd.merge(data1, data2, on='FIPS') # Combine the 2 tabs together\n",
    "    data_full = data_full.sort_values(by=['Population_y'], ascending=False) # Sort the data by county population\n",
    "    top25 = data_full.iloc[1:26] # Select the top 25 counties with highest population\n",
    "    top25_final = top25[variables['original_16']] # Select the variables we want to include\n",
    "    names = variables['new_16'] # Select the new variable names\n",
    "    top25_final.columns = names # Rename the variables\n",
    "    top25_final['Year'] = year # Add year column\n",
    "    top25_final['FIPS'] = top25_final['FIPS'].apply(str).str.strip('.0') # Change the format of FIPS column to string, and get rid of 0\n",
    "    \n",
    "    return top25_final"
   ]
  },
  {
   "cell_type": "code",
   "execution_count": 54,
   "metadata": {},
   "outputs": [],
   "source": [
    "# Define a function that takes a the downloaded file from County Health Ranking website and the corresponding year\n",
    "# Since the County Health data has different variables year by year, so this function works for 2017-2018\n",
    "# Please refer to the 2016 function for code explanation \n",
    "def county_data_17_18(filename, year):\n",
    "    data1 = pd.read_excel(filename, sheet_name = 'Ranked Measure Data', skiprows = 1)\n",
    "    data2 = pd.read_excel(filename, sheet_name = 'Additional Measure Data', skiprows = 1)\n",
    "    variables = pd.read_csv('CH_variable.csv')\n",
    "    data_full = pd.merge(data1, data2, on='FIPS')\n",
    "    data_full = data_full.sort_values(by=['Population_y'], ascending=False)\n",
    "    top25 = data_full.iloc[1:26]\n",
    "    top25_final = top25[variables['original_1718']]\n",
    "    names = variables['new_1718']\n",
    "    top25_final.columns = names\n",
    "    top25_final['Year'] = year\n",
    "    top25_final['FIPS'] = top25_final['FIPS'].apply(str).str.strip('.0')\n",
    "    \n",
    "    return top25_final"
   ]
  },
  {
   "cell_type": "code",
   "execution_count": 55,
   "metadata": {},
   "outputs": [],
   "source": [
    "# Define a function that takes a the downloaded file from County Health Ranking website and the corresponding year\n",
    "# Since the County Health data has different variables year by year, so this function works for 2019\n",
    "# Please refer to the 2016 function for code explanation \n",
    "def county_data_19(filename, year):\n",
    "    data1 = pd.read_excel(filename, sheet_name = 'Ranked Measure Data', skiprows = 1)\n",
    "    data2 = pd.read_excel(filename, sheet_name = 'Additional Measure Data', skiprows = 1)\n",
    "    variables = pd.read_csv('CH_variable.csv')\n",
    "    data_full = pd.merge(data1, data2, on='FIPS')\n",
    "    data_full = data_full.sort_values(by=['Population_y'], ascending=False)\n",
    "    top25 = data_full.iloc[1:26]\n",
    "    top25_final = top25[variables['original_19']]\n",
    "    names = variables['new_19']\n",
    "    top25_final.columns = names\n",
    "    top25_final['Year'] = year\n",
    "    top25_final['FIPS'] = top25_final['FIPS'].apply(str).str.strip('.0')\n",
    "    \n",
    "    return top25_final"
   ]
  },
  {
   "cell_type": "code",
   "execution_count": 56,
   "metadata": {},
   "outputs": [],
   "source": [
    "# Use the function to transform downloaded data from 2016-2019\n",
    "df_2016 = county_data_16('2016 CH.xls', 2016)\n",
    "df_2017 = county_data_17_18('2017 CH.xls', 2017)\n",
    "df_2018 = county_data_17_18('2018 CH.xls', 2018)\n",
    "df_2019 = county_data_19('2019 CH.xls', 2019)"
   ]
  },
  {
   "cell_type": "code",
   "execution_count": 62,
   "metadata": {},
   "outputs": [],
   "source": [
    "# Concat the dataframe together\n",
    "frames = [df_2016, df_2017, df_2018, df_2019]\n",
    "county_data_16_19 = pd.concat(frames)"
   ]
  },
  {
   "cell_type": "code",
   "execution_count": 64,
   "metadata": {},
   "outputs": [],
   "source": [
    "# Sort the data by FIPS code and year\n",
    "county_data_16_19 = county_data_16_19.sort_values(['FIPS', 'Year'])"
   ]
  },
  {
   "cell_type": "code",
   "execution_count": 65,
   "metadata": {
    "colab": {
     "base_uri": "https://localhost:8080/",
     "height": 34
    },
    "colab_type": "code",
    "executionInfo": {
     "elapsed": 1303,
     "status": "ok",
     "timestamp": 1582762063584,
     "user": {
      "displayName": "Minya Na",
      "photoUrl": "https://lh3.googleusercontent.com/a-/AAuE7mC0PhTP5JHFGrfVa7CriouhMG_TpyueVlVckkaS=s64",
      "userId": "04034155593414153084"
     },
     "user_tz": 360
    },
    "id": "7zxflGpC6xyu",
    "outputId": "df1cf848-27ad-4760-d8c4-55d05ee24d28"
   },
   "outputs": [],
   "source": [
    "# Store the data into CSV\n",
    "county_data_16_19.to_csv('county_data_16_19.csv', index = None)"
   ]
  }
 ],
 "metadata": {
  "colab": {
   "name": "ELP-API.ipynb",
   "provenance": []
  },
  "kernelspec": {
   "display_name": "Python 3",
   "language": "python",
   "name": "python3"
  },
  "language_info": {
   "codemirror_mode": {
    "name": "ipython",
    "version": 3
   },
   "file_extension": ".py",
   "mimetype": "text/x-python",
   "name": "python",
   "nbconvert_exporter": "python",
   "pygments_lexer": "ipython3",
   "version": "3.7.4"
  }
 },
 "nbformat": 4,
 "nbformat_minor": 1
}
