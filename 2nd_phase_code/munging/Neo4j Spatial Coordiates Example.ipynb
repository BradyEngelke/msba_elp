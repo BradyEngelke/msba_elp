{
 "cells": [
  {
   "cell_type": "markdown",
   "metadata": {},
   "source": [
    "**Download the data here**(https://github.com/BradyEngelke/msba_elp/tree/master/2nd_phase_data)\n",
    "\n",
    "**Data needed**: Minnesota_Hospitals.csv, Food_Shelves.csv, Minnesota_Nursing_Facilities.csv\n",
    "\n",
    "**Introduction** Here is an example using geopy Python package to generate coordianates automatically. We use these three data as an example \n"
   ]
  },
  {
   "cell_type": "markdown",
   "metadata": {},
   "source": [
    "# Packages"
   ]
  },
  {
   "cell_type": "code",
   "execution_count": 1,
   "metadata": {},
   "outputs": [],
   "source": [
    "import warnings\n",
    "warnings.filterwarnings(\"ignore\")"
   ]
  },
  {
   "cell_type": "code",
   "execution_count": 7,
   "metadata": {},
   "outputs": [],
   "source": [
    "import pandas as pd\n",
    "from geopy.geocoders import Nominatim"
   ]
  },
  {
   "cell_type": "code",
   "execution_count": 9,
   "metadata": {},
   "outputs": [
    {
     "name": "stdout",
     "output_type": "stream",
     "text": [
      "(40.741059199999995, -73.98964162240998)\n"
     ]
    }
   ],
   "source": [
    "# a simple example using address to find coordinates\n",
    "geolocator = Nominatim()\n",
    "location = geolocator.geocode(\"175 5th Avenue NYC\")\n",
    "print((location.latitude, location.longitude))"
   ]
  },
  {
   "cell_type": "code",
   "execution_count": 10,
   "metadata": {},
   "outputs": [
    {
     "name": "stdout",
     "output_type": "stream",
     "text": [
      "(44.97308605, -93.23708812629405)\n"
     ]
    }
   ],
   "source": [
    "# a simple example using location name to find coordinates\n",
    "geolocator = Nominatim()\n",
    "location = geolocator.geocode(\"University of Minnesota\")\n",
    "print((location.latitude, location.longitude))"
   ]
  },
  {
   "cell_type": "code",
   "execution_count": 5,
   "metadata": {},
   "outputs": [],
   "source": [
    "'''\n",
    "input: raw csv file from GIS Open Data, county column name in each file\n",
    "output: dataframe with only Hennepin data\n",
    "\n",
    "'''       \n",
    "hospital = pd.read_csv('Minnesota_Hospitals.csv')\n",
    "hospital = hospital[hospital['COUNTYNAME'] == 'HENNEPIN']\n",
    "\n",
    "food_shelves = pd.read_csv('Food_Shelves.csv')\n",
    "food_shelves = food_shelves[food_shelves['County'] == 'Hennepin']\n",
    "\n",
    "nursing = pd.read_csv('Minnesota_Nursing_Facilities.csv')\n",
    "nursing = nursing[nursing['COUNTY_NAME'] == 'HENNEPIN']"
   ]
  },
  {
   "cell_type": "code",
   "execution_count": 139,
   "metadata": {},
   "outputs": [],
   "source": [
    "# In this function, we can use either address name or location name to get coordiates. We use both and choose the more accurate one in this case.\n",
    "\n",
    "def addr_to_coord(name, table_name, address_col, name_col):\n",
    "    \n",
    "    '''\n",
    "    input: table string, dateframe with address and location name, address column name, location name column name\n",
    "    output: dataframe with two more columns longitude and lagitude\n",
    "    \n",
    "    '''\n",
    "    table_add = table_name[[address_col, name_col]]\n",
    "    table_add_list = []\n",
    "    for index, rows in table_add.iterrows(): \n",
    "        my_list =[rows[address_col], rows[name_col]] \n",
    "        table_add_list.append(my_list)\n",
    "    \n",
    "    geolocator = Nominatim()\n",
    "    \n",
    "    # Setup the boundaries of Hennepin County and get notification if the coordinates are out of boundary\n",
    "    Hennepin_latitude_upper = 45.393850 \n",
    "    Hennepin_latitude_lower = 44.608197    \n",
    "    Hennepin_longitude_upper = -93.016710\n",
    "    Hennepin_longitude_lower = -94.080839\n",
    "    \n",
    "    #\n",
    "    state = 'Minnisota'\n",
    "    country = 'USA'\n",
    "    \n",
    "    # Here to avoid error, we use both address and location name to find the coordiates. If one result is out of boundary or\n",
    "    # cannot find, we can use the other.\n",
    "    for add in table_add_list:\n",
    "        geolocator = Nominatim()\n",
    "        name_query = str(add[1]) + ',' + state + ',' + country\n",
    "        add_query = str(add[0]) + ',' + state + ',' + country\n",
    "        try:\n",
    "            location = geolocator.geocode(name_query)\n",
    "            if Hennepin_latitude_lower < location.latitude < Hennepin_latitude_upper and Hennepin_longitude_lower < location.longitude < Hennepin_longitude_upper:\n",
    "                table_name.loc[table_name[name_col] == add[1], 'Latitude'] = location.latitude\n",
    "                table_name.loc[table_name[name_col] == add[1], 'Longitude'] = location.longitude\n",
    "            else:\n",
    "                try:\n",
    "                    location = geolocator.geocode(add_query)\n",
    "                    if Hennepin_latitude_lower < location.latitude < Hennepin_latitude_upper and Hennepin_longitude_lower < location.longitude < Hennepin_longitude_upper:\n",
    "                        table_name.loc[table_name[address_col] == add[0], 'Latitude'] = location.latitude\n",
    "                        table_name.loc[table_name[address_col] == add[0], 'Longitude'] = location.longitude\n",
    "                    else:\n",
    "                        table_name.loc[table_name[address_col] == add[0], 'Latitude'] = 'Out of range'\n",
    "                        table_name.loc[table_name[address_col] == add[0], 'Longitude'] = 'Out of range'\n",
    "                except:\n",
    "                    table_name.loc[table_name[address_col] == add[0], 'Latitude'] = 'Cannot find'\n",
    "                    table_name.loc[table_name[address_col] == add[0], 'Longitude'] = 'Cannot find'\n",
    "        except:\n",
    "            try:\n",
    "                location = geolocator.geocode(add_query)\n",
    "                if Hennepin_latitude_lower < location.latitude < Hennepin_latitude_upper and Hennepin_longitude_lower < location.longitude < Hennepin_longitude_upper:\n",
    "                    table_name.loc[table_name[address_col] == add[0], 'Latitude'] = location.latitude\n",
    "                    table_name.loc[table_name[address_col] == add[0], 'Longitude'] = location.longitude\n",
    "                else:\n",
    "                    table_name.loc[table_name[address_col] == add[0], 'Latitude'] = 'Out of range'\n",
    "                    table_name.loc[table_name[address_col] == add[0], 'Longitude'] = 'Out of range'\n",
    "            except:\n",
    "                table_name.loc[table_name[address_col] == add[0], 'Latitude'] = 'Cannot find'\n",
    "                table_name.loc[table_name[address_col] == add[0], 'Longitude'] = 'Cannot find'\n",
    "    \n",
    "    num_out_of_range = table_name[table_name['Latitude'] == 'Out of range'].shape[0]\n",
    "    num_cannot_find = table_name[table_name['Latitude'] == 'Cannot find'].shape[0]\n",
    "    total_rows = table_name.shape[0]\n",
    "    success_convert = total_rows - num_cannot_find - num_out_of_range\n",
    "    \n",
    "    print('--------------------' + name + '--------------------')\n",
    "    print('Successfully get ' +  str(success_convert) + ' location coordinates')\n",
    "    print('There are ' + str(num_out_of_range) + ' address out of range in Hennepin county with ' + str(round(num_out_of_range / total_rows * 100, 1)) + ' percentage')\n",
    "    print('There are ' + str(num_cannot_find) + ' address cannot find with ' + str(round(num_cannot_find / total_rows * 100, 1)) + ' percentage')\n",
    "    \n",
    "    return table_name"
   ]
  },
  {
   "cell_type": "code",
   "execution_count": 140,
   "metadata": {},
   "outputs": [
    {
     "name": "stdout",
     "output_type": "stream",
     "text": [
      "--------------------hospital--------------------\n",
      "Successfully get 14 location coordinates\n",
      "There are 0 address out of range in Hennepin county with 0.0 percentage\n",
      "There are 0 address cannot find with 0.0 percentage\n",
      "--------------------food_shelves--------------------\n",
      "Successfully get 44 location coordinates\n",
      "There are 4 address out of range in Hennepin county with 8.2 percentage\n",
      "There are 1 address cannot find with 2.0 percentage\n",
      "--------------------nursing--------------------\n",
      "Successfully get 42 location coordinates\n",
      "There are 1 address out of range in Hennepin county with 1.9 percentage\n",
      "There are 9 address cannot find with 17.3 percentage\n"
     ]
    }
   ],
   "source": [
    "# Here we can see that some of them are out of boundaries and the package cannot find the result in some cases.\n",
    "# But there are only few cases, we can manully find their coordianates by Google Map.\n",
    "\n",
    "hospital = addr_to_coord('hospital', hospital, 'ADDRESS', 'NAME')\n",
    "food_shelves = addr_to_coord('food_shelves', food_shelves, 'AddressLine1', 'LocationName')\n",
    "nursing = addr_to_coord('nursing', nursing, 'Match_addr', 'NAME')"
   ]
  }
 ],
 "metadata": {
  "kernelspec": {
   "display_name": "Python 3",
   "language": "python",
   "name": "python3"
  },
  "language_info": {
   "codemirror_mode": {
    "name": "ipython",
    "version": 3
   },
   "file_extension": ".py",
   "mimetype": "text/x-python",
   "name": "python",
   "nbconvert_exporter": "python",
   "pygments_lexer": "ipython3",
   "version": "3.7.4"
  }
 },
 "nbformat": 4,
 "nbformat_minor": 2
}
