{
 "cells": [
  {
   "cell_type": "code",
   "execution_count": 1,
   "metadata": {
    "colab": {},
    "colab_type": "code",
    "id": "Lzhk5l-76xyl"
   },
   "outputs": [],
   "source": [
    "# reference\n",
    "# https://towardsdatascience.com/getting-census-data-in-5-easy-steps-a08eeb63995d\n",
    "# Variable list\n",
    "# Detailed table: https://api.census.gov/data/2018/acs/acs5/profile/variables.html\n",
    "# Subject table: https://api.census.gov/data/2018/acs/acs5/subject/variables.html"
   ]
  },
  {
   "cell_type": "code",
   "execution_count": 1,
   "metadata": {
    "colab": {},
    "colab_type": "code",
    "id": "XXdEgc2X6xyr"
   },
   "outputs": [],
   "source": [
    "#manipulate dataframes in python\n",
    "import pandas as pd\n",
    "\n",
    "#make API calls with python\n",
    "import requests\n",
    "\n",
    "#allows us to store results of API call cleanly\n",
    "import json"
   ]
  },
  {
   "cell_type": "code",
   "execution_count": 2,
   "metadata": {},
   "outputs": [],
   "source": [
    "#display all the columns in dataframe\n",
    "pd.set_option('display.max_columns', None)"
   ]
  },
  {
   "cell_type": "code",
   "execution_count": 3,
   "metadata": {},
   "outputs": [],
   "source": [
    "# Import the variable list that contains the ACS codes of the attributes we want to acquire using API and new attribute name\n",
    "# Since the API varies by table, this file works for attributes in data profile table\n",
    "df = pd.read_csv('ACS Variables_Tract_DP.csv')"
   ]
  },
  {
   "cell_type": "code",
   "execution_count": 4,
   "metadata": {},
   "outputs": [],
   "source": [
    "# Select ACS codes and turn it into a list\n",
    "var_codes = df['Code'].tolist()\n",
    "\n",
    "# Select attribute name and turn it into a list, this can be self-defined. You can also choose not to rename the variable\n",
    "names = df['Name in Database'].tolist()\n",
    "\n",
    "# Zip the lists above into a dictionary to map the code with attribute name\n",
    "var_name_dct = dict(zip(var_codes, names)) "
   ]
  },
  {
   "cell_type": "code",
   "execution_count": 5,
   "metadata": {},
   "outputs": [],
   "source": [
    "# Define a function to take year, code and attribute name and acquire value using Census API\n",
    "def getAPIdata(year, code, AttrName):\n",
    "    apiKey = '09e7e4a144645fc4e247d25e6477d1a245f561cd' # To use census API, you will need to apply for a key. Please replace the key with yours here\n",
    "    year = year # Take the data at that year\n",
    "    var_code = code # Take the attribute using the code\n",
    "    \n",
    "    # This is the base API, here we set Hennepin County with code 27 & 053, and the %s are placeholder to take time, attribute code and key\n",
    "    baseAPI = 'https://api.census.gov/data/%s/acs/acs5/profile?get=%s&for=tract:*&in=state:27&in=county:053&key=%s'\n",
    "    calledAPI = baseAPI % (year, var_code, apiKey) # Put year, attribute code and key into the placeholders\n",
    "    response = requests.get(calledAPI) # Call API\n",
    "    formattedResponse = json.loads(response.text) # Load the data into Json format\n",
    "    \n",
    "    data = pd.DataFrame(columns=[AttrName, 'state', 'county', 'tract'], data=formattedResponse) # Transform the data into DataFrame, and select the columns we want\n",
    "    data_by_Tract  = data[reversed(data.columns)] # Reverse the order of columns\n",
    "    data_by_Tract[['state', 'county', 'tract']] = data_by_Tract[['state', 'county', 'tract']].astype(str) # Transform the cell value from integar into string format\n",
    "    data_by_Tract['TractId'] =data_by_Tract[['state', 'county', 'tract']].agg(''.join, axis=1) # Join state, county and tract code into full TractId\n",
    "    data_by_Tract = data_by_Tract.iloc[1: ,[4,3]] # Select the data we need. We skip first row, and take column 3, 4\n",
    "    \n",
    "    return data_by_Tract"
   ]
  },
  {
   "cell_type": "code",
   "execution_count": 6,
   "metadata": {},
   "outputs": [],
   "source": [
    "# Load the empty DataFrame that only contains TractId\n",
    "All_data_by_Tract_2018 =  pd.read_csv('Tract_FIPS_codes.csv', dtype= 'str')"
   ]
  },
  {
   "cell_type": "code",
   "execution_count": 7,
   "metadata": {},
   "outputs": [],
   "source": [
    "# Use a for loop to iterate through all the ACS codes we want\n",
    "for key, value in var_name_dct.items():\n",
    "    data_by_Tract_2018 = getAPIdata(2018, key, value)\n",
    "    All_data_by_Tract_2018 = pd.merge(All_data_by_Tract_2018, data_by_Tract_2018, on='TractId') # Merge the new attribute to the existing DataFrame"
   ]
  },
  {
   "cell_type": "code",
   "execution_count": 8,
   "metadata": {},
   "outputs": [],
   "source": [
    "# Import the variable list that contains the ACS codes of the attributes we want to acquire using API and new attribute name\n",
    "# Since the API varies by table, this file works for attributes in subject table\n",
    "# We have subject variables in \"ACS Variables_Tract_Subject_SNAP.csv\" and \"ACS Variables_Tract_Subject.csv\"\n",
    "df3 = pd.read_csv('ACS Variables_Tract_Subject_SNAP.csv')\n",
    "# Select ACS codes and turn it into a list\n",
    "var_codes_sub = df3['Code'].tolist()\n",
    "# Select attribute name and turn it into a list, this can be self-defined. You can also choose not to rename the variable\n",
    "names_sub = df3['Name in Database'].tolist()\n",
    "# Zip the lists above into a dictionary to map the code with attribute name\n",
    "var_name_sub_dct = dict(zip(var_codes_sub, names_sub)) "
   ]
  },
  {
   "cell_type": "code",
   "execution_count": 9,
   "metadata": {},
   "outputs": [],
   "source": [
    "# Define a function to take year, code and attribute name and acquire value using Census API\n",
    "# This function is used to get data from subject table\n",
    "# Please refer to getAPI function above for the detailed code explanation\n",
    "def getAPIdata_sub(year, code, AttrName):\n",
    "    apiKey = '09e7e4a144645fc4e247d25e6477d1a245f561cd'\n",
    "    year = year\n",
    "    var_code = code\n",
    "    baseAPI = 'https://api.census.gov/data/%s/acs/acs5/subject?get=%s&for=tract:*&in=state:27&in=county:053&key=%s'\n",
    "    calledAPI = baseAPI % (year, var_code, apiKey)\n",
    "    response = requests.get(calledAPI)\n",
    "    formattedResponse = json.loads(response.text)\n",
    "    data = pd.DataFrame(columns=[AttrName, 'state', 'county', 'tract'], data=formattedResponse)\n",
    "    data_by_Tract  = data[reversed(data.columns)]\n",
    "    data_by_Tract[['state', 'county', 'tract']] = data_by_Tract[['state', 'county', 'tract']].astype(str)\n",
    "    data_by_Tract['TractId'] =data_by_Tract[['state', 'county', 'tract']].agg(''.join, axis=1)\n",
    "    data_by_Tract = data_by_Tract.iloc[1: ,[4,3]]\n",
    "    \n",
    "    return data_by_Tract"
   ]
  },
  {
   "cell_type": "code",
   "execution_count": 10,
   "metadata": {},
   "outputs": [],
   "source": [
    "# Use a for loop to iterate through all the ACS codes we want\n",
    "for key, value in var_name_sub_dct.items():\n",
    "    data_by_Tract_2018 = getAPIdata_sub(2018, key, value)\n",
    "    All_data_by_Tract_2018 = pd.merge(All_data_by_Tract_2018, data_by_Tract_2018, on='TractId') # Merge the new attribute to the existing DataFrame"
   ]
  },
  {
   "cell_type": "code",
   "execution_count": 12,
   "metadata": {},
   "outputs": [],
   "source": [
    "# Save that dataframe to a CSV spreadsheet\n",
    "All_data_by_Tract_2018.to_csv('All_data_by_Tract_18.csv', index=False)"
   ]
  }
 ],
 "metadata": {
  "colab": {
   "name": "ELP-API.ipynb",
   "provenance": []
  },
  "kernelspec": {
   "display_name": "Python 3",
   "language": "python",
   "name": "python3"
  },
  "language_info": {
   "codemirror_mode": {
    "name": "ipython",
    "version": 3
   },
   "file_extension": ".py",
   "mimetype": "text/x-python",
   "name": "python",
   "nbconvert_exporter": "python",
   "pygments_lexer": "ipython3",
   "version": "3.7.4"
  }
 },
 "nbformat": 4,
 "nbformat_minor": 1
}
