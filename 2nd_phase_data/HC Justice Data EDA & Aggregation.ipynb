{
 "cells": [
  {
   "cell_type": "code",
   "execution_count": 418,
   "metadata": {},
   "outputs": [],
   "source": [
    "# Import packages\n",
    "import pandas as pd\n",
    "import numpy as np\n",
    "import datetime as dt\n",
    "import warnings\n",
    "warnings.filterwarnings(\"ignore\")"
   ]
  },
  {
   "cell_type": "code",
   "execution_count": 419,
   "metadata": {},
   "outputs": [],
   "source": [
    "# Set pandas to show all columns\n",
    "pd.set_option('display.max_columns', None)"
   ]
  },
  {
   "cell_type": "code",
   "execution_count": 420,
   "metadata": {},
   "outputs": [],
   "source": [
    "# Read 2019 Justice data\n",
    "data = pd.read_csv('HC_Justice_2015-2019.csv')"
   ]
  },
  {
   "cell_type": "markdown",
   "metadata": {},
   "source": [
    "### County Level Analysis"
   ]
  },
  {
   "cell_type": "code",
   "execution_count": 422,
   "metadata": {},
   "outputs": [],
   "source": [
    "# Create dataframe to store data\n",
    "begin = 2015\n",
    "end = 2019\n",
    "County_data = pd.DataFrame({'Year': range(begin, end + 1), 'County': ['Hennepin'] * (end - begin + 1)})"
   ]
  },
  {
   "cell_type": "code",
   "execution_count": 423,
   "metadata": {},
   "outputs": [],
   "source": [
    "# Calculate total number of case\n",
    "County_data['num_of_cases_total'] = data.groupby('Year').nunique()['Cases'].values"
   ]
  },
  {
   "cell_type": "code",
   "execution_count": 424,
   "metadata": {},
   "outputs": [],
   "source": [
    "# Calculate case by gender\n",
    "genders = data['Gender'].unique().tolist()\n",
    "for gender in genders:\n",
    "    df = data.groupby(['Year', 'Gender']).agg({ 'Cases' : 'nunique'}).xs(gender, level=1, drop_level=True)\n",
    "    df.columns = ['num_of_case_gender_' + gender]\n",
    "    County_data = County_data.merge(df, on= 'Year' )"
   ]
  },
  {
   "cell_type": "code",
   "execution_count": 425,
   "metadata": {},
   "outputs": [],
   "source": [
    "# Calculate case by race\n",
    "races = data['Race'].unique().tolist()\n",
    "for race in races:\n",
    "    df = data.groupby(['Year', 'Race']).agg({ 'Cases' : 'nunique'}).xs(race, level=1, drop_level=True)\n",
    "    df.columns = ['num_of_case_race_' + race]\n",
    "    County_data = County_data.merge(df, on= 'Year' )"
   ]
  },
  {
   "cell_type": "code",
   "execution_count": 426,
   "metadata": {},
   "outputs": [],
   "source": [
    "# Calculate case by Group\n",
    "groups = data['Group'].unique().tolist()\n",
    "for group in groups:\n",
    "    df = data.groupby(['Year', 'Group']).agg({ 'Cases' : 'nunique'}).xs(group, level=1, drop_level=True)\n",
    "    df.columns = ['num_of_case_group_' + group]\n",
    "    County_data = County_data.merge(df, on= 'Year' )"
   ]
  },
  {
   "cell_type": "code",
   "execution_count": 427,
   "metadata": {},
   "outputs": [],
   "source": [
    "# Calculate case by offense level\n",
    "levels = data['Offense Level'].unique().tolist()\n",
    "for level in levels:\n",
    "    df = data.groupby(['Year', 'Offense Level']).agg({ 'Cases' : 'nunique'}).xs(level, level=1, drop_level=True)\n",
    "    df.columns = ['num_of_case_level_' + level]\n",
    "    County_data = County_data.merge(df, on= 'Year' )"
   ]
  },
  {
   "cell_type": "code",
   "execution_count": 353,
   "metadata": {},
   "outputs": [],
   "source": [
    "# Store data in csv\n",
    "County_data.to_csv('County_Justice_data_' + str(begin) + '-' + str(end) + '.csv', index = None)"
   ]
  },
  {
   "cell_type": "markdown",
   "metadata": {},
   "source": [
    "### City Level Analysis"
   ]
  },
  {
   "cell_type": "code",
   "execution_count": 466,
   "metadata": {},
   "outputs": [],
   "source": [
    "cities = sorted(data['City_new'].unique().tolist())"
   ]
  },
  {
   "cell_type": "code",
   "execution_count": 468,
   "metadata": {},
   "outputs": [],
   "source": [
    "begin = 2015\n",
    "end = 2019\n",
    "iterables = [cities,  range(begin, end + 1)]\n",
    "index = pd.MultiIndex.from_product(iterables, names=['City', 'Year'])\n",
    "City_data = pd.DataFrame(index=index)"
   ]
  },
  {
   "cell_type": "code",
   "execution_count": 470,
   "metadata": {},
   "outputs": [],
   "source": [
    "# Calculate number of case by city and year\n",
    "df = data.groupby(['City_new', 'Year']).agg({ 'Cases' : 'nunique'})\n",
    "df.columns = ['num_of_cases_total']\n",
    "City_data = City_data.merge(df, how='left', left_index=True, right_on = ['City_new', 'Year'])"
   ]
  },
  {
   "cell_type": "code",
   "execution_count": 472,
   "metadata": {},
   "outputs": [],
   "source": [
    "# Calculate case by gender\n",
    "genders = data['Gender'].unique().tolist()\n",
    "for gender in genders:\n",
    "    df = data.groupby(['City_new', 'Year', 'Gender']).agg({ 'Cases' : 'nunique'}).xs(gender, level=2, drop_level=True)\n",
    "    df.columns = ['num_of_case_gender_' + gender]\n",
    "    City_data = City_data.merge(df, how='left', left_index=True, right_on = ['City_new', 'Year'])"
   ]
  },
  {
   "cell_type": "code",
   "execution_count": 473,
   "metadata": {},
   "outputs": [],
   "source": [
    "# Calculate case by race\n",
    "races = data['Race'].unique().tolist()\n",
    "for race in races:\n",
    "    df = data.groupby(['City_new', 'Year', 'Race']).agg({ 'Cases' : 'nunique'}).xs(race, level=2, drop_level=True)\n",
    "    df.columns = ['num_of_case_race_' + race]\n",
    "    City_data = City_data.merge(df, how='left', left_index=True, right_on = ['City_new', 'Year'])"
   ]
  },
  {
   "cell_type": "code",
   "execution_count": 474,
   "metadata": {},
   "outputs": [],
   "source": [
    "# Calculate case by Group\n",
    "groups = data['Group'].unique().tolist()\n",
    "for group in groups:\n",
    "    df = data.groupby(['City_new', 'Year', 'Group']).agg({ 'Cases' : 'nunique'}).xs(group, level=2, drop_level=True)\n",
    "    df.columns = ['num_of_case_group_' + group]\n",
    "    City_data = City_data.merge(df, how='left', left_index=True, right_on = ['City_new', 'Year'])"
   ]
  },
  {
   "cell_type": "code",
   "execution_count": 475,
   "metadata": {},
   "outputs": [],
   "source": [
    "# Calculate case by offense level\n",
    "levels = data['Offense Level'].unique().tolist()\n",
    "for level in levels:\n",
    "    df = data.groupby(['City_new', 'Year', 'Offense Level']).agg({ 'Cases' : 'nunique'}).xs(level, level=2, drop_level=True)\n",
    "    df.columns = ['num_of_case_level_' + level]\n",
    "    City_data = City_data.merge(df, how='left', left_index=True, right_on = ['City_new', 'Year'])"
   ]
  },
  {
   "cell_type": "code",
   "execution_count": 477,
   "metadata": {},
   "outputs": [],
   "source": [
    "# Release multi-index into normal column values, and rename city column\n",
    "City_data = City_data.reset_index()\n",
    "City_data = City_data.rename(columns={'City_new': 'City'})"
   ]
  },
  {
   "cell_type": "code",
   "execution_count": 482,
   "metadata": {},
   "outputs": [],
   "source": [
    "# Store data in csv\n",
    "City_data.to_csv('City_Justice_data_' + str(begin) + '-' + str(end) + '.csv', index = None)"
   ]
  }
 ],
 "metadata": {
  "kernelspec": {
   "display_name": "Python 3",
   "language": "python",
   "name": "python3"
  },
  "language_info": {
   "codemirror_mode": {
    "name": "ipython",
    "version": 3
   },
   "file_extension": ".py",
   "mimetype": "text/x-python",
   "name": "python",
   "nbconvert_exporter": "python",
   "pygments_lexer": "ipython3",
   "version": "3.7.4"
  }
 },
 "nbformat": 4,
 "nbformat_minor": 2
}
