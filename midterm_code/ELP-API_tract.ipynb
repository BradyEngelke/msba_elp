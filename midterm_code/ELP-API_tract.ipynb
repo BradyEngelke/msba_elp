{
 "cells": [
  {
   "cell_type": "code",
   "execution_count": 0,
   "metadata": {
    "colab": {},
    "colab_type": "code",
    "id": "Lzhk5l-76xyl"
   },
   "outputs": [],
   "source": [
    "# reference\n",
    "# https://towardsdatascience.com/getting-census-data-in-5-easy-steps-a08eeb63995d\n",
    "# data list\n",
    "# https://api.census.gov/data/2018/acs/acs5/variables.html"
   ]
  },
  {
   "cell_type": "code",
   "execution_count": 1,
   "metadata": {
    "colab": {},
    "colab_type": "code",
    "id": "XXdEgc2X6xyr"
   },
   "outputs": [],
   "source": [
    "#manipulate dataframes in python\n",
    "import pandas as pd\n",
    "\n",
    "#make API calls with python\n",
    "import requests\n",
    "\n",
    "#allows us to store results of API call cleanly\n",
    "import json"
   ]
  },
  {
   "cell_type": "code",
   "execution_count": 2,
   "metadata": {},
   "outputs": [],
   "source": [
    "#display all the columns in dataframe\n",
    "pd.set_option('display.max_columns', None)"
   ]
  },
  {
   "cell_type": "code",
   "execution_count": 3,
   "metadata": {
    "colab": {
     "base_uri": "https://localhost:8080/",
     "height": 34
    },
    "colab_type": "code",
    "executionInfo": {
     "elapsed": 1303,
     "status": "ok",
     "timestamp": 1582762063584,
     "user": {
      "displayName": "Minya Na",
      "photoUrl": "https://lh3.googleusercontent.com/a-/AAuE7mC0PhTP5JHFGrfVa7CriouhMG_TpyueVlVckkaS=s64",
      "userId": "04034155593414153084"
     },
     "user_tz": 360
    },
    "id": "7zxflGpC6xyu",
    "outputId": "df1cf848-27ad-4760-d8c4-55d05ee24d28"
   },
   "outputs": [
    {
     "name": "stdout",
     "output_type": "stream",
     "text": [
      "https://api.census.gov/data/2018/acs/acs5/profile?get=DP05_0018E&for=tract:*&in=state:27&in=county:053&key=09e7e4a144645fc4e247d25e6477d1a245f561cd\n"
     ]
    }
   ],
   "source": [
    "#put your census API key here\n",
    "apiKey = \"09e7e4a144645fc4e247d25e6477d1a245f561cd\"\n",
    "\n",
    "#Put variable code\n",
    "var_code = 'DP05_0018E'\n",
    "\n",
    "#construct the API call we will use\n",
    "baseAPI = \"https://api.census.gov/data/2018/acs/acs5/profile?get=%s&for=tract:*&in=state:27&in=county:053&key=%s\" \n",
    "# \n",
    "calledAPI = baseAPI % (var_code, apiKey)\n",
    "print(calledAPI)\n",
    "\n",
    "#call the API and collect the response\n",
    "response = requests.get(calledAPI)\n",
    "\n",
    "#load the response into a JSON, ignoring the first element which is just field labels\n",
    "formattedResponse = json.loads(response.text)\n"
   ]
  },
  {
   "cell_type": "code",
   "execution_count": 8,
   "metadata": {},
   "outputs": [],
   "source": [
    "#store the response in a dataframe, change the first column name to the variable name you want to use in database\n",
    "data = pd.DataFrame(columns=[ 'Median Age', 'state', 'county', 'tract'], data=formattedResponse)\n",
    "\n",
    "#Align the column formats\n",
    "data[['state', 'county', 'tract']] = data[['state', 'county', 'tract']].astype(str)\n",
    "\n",
    "#Join the TractId column\n",
    "data['TractId'] = data[['state', 'county', 'tract']].agg(''.join, axis=1)"
   ]
  },
  {
   "cell_type": "code",
   "execution_count": 7,
   "metadata": {},
   "outputs": [
    {
     "data": {
      "text/html": [
       "<div>\n",
       "<style scoped>\n",
       "    .dataframe tbody tr th:only-of-type {\n",
       "        vertical-align: middle;\n",
       "    }\n",
       "\n",
       "    .dataframe tbody tr th {\n",
       "        vertical-align: top;\n",
       "    }\n",
       "\n",
       "    .dataframe thead th {\n",
       "        text-align: right;\n",
       "    }\n",
       "</style>\n",
       "<table border=\"1\" class=\"dataframe\">\n",
       "  <thead>\n",
       "    <tr style=\"text-align: right;\">\n",
       "      <th></th>\n",
       "      <th>Median Age</th>\n",
       "      <th>state</th>\n",
       "      <th>county</th>\n",
       "      <th>tract</th>\n",
       "      <th>TractId</th>\n",
       "    </tr>\n",
       "  </thead>\n",
       "  <tbody>\n",
       "    <tr>\n",
       "      <td>0</td>\n",
       "      <td>DP05_0018E</td>\n",
       "      <td>state</td>\n",
       "      <td>county</td>\n",
       "      <td>tract</td>\n",
       "      <td>statecountytract</td>\n",
       "    </tr>\n",
       "    <tr>\n",
       "      <td>1</td>\n",
       "      <td>28.0</td>\n",
       "      <td>27</td>\n",
       "      <td>053</td>\n",
       "      <td>103700</td>\n",
       "      <td>27053103700</td>\n",
       "    </tr>\n",
       "    <tr>\n",
       "      <td>2</td>\n",
       "      <td>24.6</td>\n",
       "      <td>27</td>\n",
       "      <td>053</td>\n",
       "      <td>104000</td>\n",
       "      <td>27053104000</td>\n",
       "    </tr>\n",
       "    <tr>\n",
       "      <td>3</td>\n",
       "      <td>30.4</td>\n",
       "      <td>27</td>\n",
       "      <td>053</td>\n",
       "      <td>104100</td>\n",
       "      <td>27053104100</td>\n",
       "    </tr>\n",
       "    <tr>\n",
       "      <td>4</td>\n",
       "      <td>20.1</td>\n",
       "      <td>27</td>\n",
       "      <td>053</td>\n",
       "      <td>104900</td>\n",
       "      <td>27053104900</td>\n",
       "    </tr>\n",
       "  </tbody>\n",
       "</table>\n",
       "</div>"
      ],
      "text/plain": [
       "   Median Age  state  county   tract           TractId\n",
       "0  DP05_0018E  state  county   tract  statecountytract\n",
       "1        28.0     27     053  103700       27053103700\n",
       "2        24.6     27     053  104000       27053104000\n",
       "3        30.4     27     053  104100       27053104100\n",
       "4        20.1     27     053  104900       27053104900"
      ]
     },
     "execution_count": 7,
     "metadata": {},
     "output_type": "execute_result"
    }
   ],
   "source": [
    "data.head()"
   ]
  },
  {
   "cell_type": "code",
   "execution_count": 9,
   "metadata": {},
   "outputs": [],
   "source": [
    "# Select columns we need\n",
    "data_by_Tract = data.iloc[1: ,[0,4]]\n",
    "data_by_Tract  = data_by_Tract [reversed(data_by_Tract .columns)]"
   ]
  },
  {
   "cell_type": "code",
   "execution_count": 10,
   "metadata": {},
   "outputs": [
    {
     "data": {
      "text/html": [
       "<div>\n",
       "<style scoped>\n",
       "    .dataframe tbody tr th:only-of-type {\n",
       "        vertical-align: middle;\n",
       "    }\n",
       "\n",
       "    .dataframe tbody tr th {\n",
       "        vertical-align: top;\n",
       "    }\n",
       "\n",
       "    .dataframe thead th {\n",
       "        text-align: right;\n",
       "    }\n",
       "</style>\n",
       "<table border=\"1\" class=\"dataframe\">\n",
       "  <thead>\n",
       "    <tr style=\"text-align: right;\">\n",
       "      <th></th>\n",
       "      <th>TractId</th>\n",
       "      <th>Median Age</th>\n",
       "    </tr>\n",
       "  </thead>\n",
       "  <tbody>\n",
       "    <tr>\n",
       "      <td>1</td>\n",
       "      <td>27053103700</td>\n",
       "      <td>28.0</td>\n",
       "    </tr>\n",
       "    <tr>\n",
       "      <td>2</td>\n",
       "      <td>27053104000</td>\n",
       "      <td>24.6</td>\n",
       "    </tr>\n",
       "    <tr>\n",
       "      <td>3</td>\n",
       "      <td>27053104100</td>\n",
       "      <td>30.4</td>\n",
       "    </tr>\n",
       "    <tr>\n",
       "      <td>4</td>\n",
       "      <td>27053104900</td>\n",
       "      <td>20.1</td>\n",
       "    </tr>\n",
       "    <tr>\n",
       "      <td>5</td>\n",
       "      <td>27053001100</td>\n",
       "      <td>33.2</td>\n",
       "    </tr>\n",
       "  </tbody>\n",
       "</table>\n",
       "</div>"
      ],
      "text/plain": [
       "       TractId Median Age\n",
       "1  27053103700       28.0\n",
       "2  27053104000       24.6\n",
       "3  27053104100       30.4\n",
       "4  27053104900       20.1\n",
       "5  27053001100       33.2"
      ]
     },
     "execution_count": 10,
     "metadata": {},
     "output_type": "execute_result"
    }
   ],
   "source": [
    "data_by_Tract.head()"
   ]
  },
  {
   "cell_type": "code",
   "execution_count": 329,
   "metadata": {},
   "outputs": [],
   "source": [
    "# Create a dataframe to store all attributes at the same place, do this if you are pulling data for the first time\n",
    "All_data_by_Tract = data_by_Tract"
   ]
  },
  {
   "cell_type": "code",
   "execution_count": 516,
   "metadata": {},
   "outputs": [],
   "source": [
    "# Run this code to append the attributes to existing dataframe, do this if you already have the tract level dataframe\n",
    "All_data_by_Tract = pd.merge(All_data_by_Tract, data_by_Tract, on='TractId')"
   ]
  },
  {
   "cell_type": "code",
   "execution_count": 518,
   "metadata": {},
   "outputs": [],
   "source": [
    "#save that dataframe to a CSV spreadsheet\n",
    "All_data_by_Tract.to_csv('All_data_by_Tract.csv', index=False)"
   ]
  }
 ],
 "metadata": {
  "colab": {
   "name": "ELP-API.ipynb",
   "provenance": []
  },
  "kernelspec": {
   "display_name": "Python 3",
   "language": "python",
   "name": "python3"
  },
  "language_info": {
   "codemirror_mode": {
    "name": "ipython",
    "version": 3
   },
   "file_extension": ".py",
   "mimetype": "text/x-python",
   "name": "python",
   "nbconvert_exporter": "python",
   "pygments_lexer": "ipython3",
   "version": "3.7.4"
  }
 },
 "nbformat": 4,
 "nbformat_minor": 1
}
