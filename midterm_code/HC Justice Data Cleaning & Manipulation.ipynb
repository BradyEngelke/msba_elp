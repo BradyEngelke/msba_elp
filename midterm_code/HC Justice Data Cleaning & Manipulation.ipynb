{
 "cells": [
  {
   "cell_type": "code",
   "execution_count": 110,
   "metadata": {},
   "outputs": [],
   "source": [
    "# Import packages\n",
    "import pandas as pd\n",
    "import numpy as np\n",
    "import datetime as dt\n",
    "import warnings\n",
    "warnings.filterwarnings(\"ignore\")"
   ]
  },
  {
   "cell_type": "code",
   "execution_count": 88,
   "metadata": {},
   "outputs": [],
   "source": [
    "pd.set_option('display.max_columns', None)"
   ]
  },
  {
   "cell_type": "code",
   "execution_count": 111,
   "metadata": {},
   "outputs": [],
   "source": [
    "# Read attorney dashboard data\n",
    "data = pd.read_excel('Attorney dashboard data.xlsx')"
   ]
  },
  {
   "cell_type": "code",
   "execution_count": 112,
   "metadata": {},
   "outputs": [
    {
     "name": "stdout",
     "output_type": "stream",
     "text": [
      "<class 'pandas.core.frame.DataFrame'>\n",
      "RangeIndex: 84158 entries, 0 to 84157\n",
      "Data columns (total 28 columns):\n",
      "MGA                     57046 non-null object\n",
      "Cases                   84158 non-null object\n",
      "COAT                    84158 non-null int64\n",
      "Group                   84158 non-null object\n",
      "Case Open               84158 non-null datetime64[ns]\n",
      "LEA                     84158 non-null object\n",
      "PrecinctNumber          26122 non-null object\n",
      "Offense Level           84158 non-null object\n",
      "Team                    31116 non-null object\n",
      "Adult Disposition       34504 non-null object\n",
      "Juvenile Disposition    15283 non-null object\n",
      "Reason for Dismissal    11535 non-null object\n",
      "EJJCert                 413 non-null object\n",
      "SpecialtyCourt          1987 non-null object\n",
      "Stay                    2355 non-null object\n",
      "SchoolCrime             84158 non-null int64\n",
      "City                    84152 non-null object\n",
      "State                   84158 non-null object\n",
      "Commissioner            74032 non-null float64\n",
      "Community               32316 non-null object\n",
      "Neighborhood            32316 non-null object\n",
      "Race                    84158 non-null object\n",
      "Gender                  84158 non-null object\n",
      "OffTypeAll              84158 non-null object\n",
      "JuvClass                1276 non-null object\n",
      "JuvOffTypes             29007 non-null object\n",
      "Decision                84158 non-null object\n",
      "Division                84158 non-null object\n",
      "dtypes: datetime64[ns](1), float64(1), int64(2), object(24)\n",
      "memory usage: 18.0+ MB\n"
     ]
    }
   ],
   "source": [
    "# Inspect data types\n",
    "data.info()"
   ]
  },
  {
   "cell_type": "code",
   "execution_count": 113,
   "metadata": {},
   "outputs": [
    {
     "data": {
      "text/plain": [
       "(84158, 28)"
      ]
     },
     "execution_count": 113,
     "metadata": {},
     "output_type": "execute_result"
    }
   ],
   "source": [
    "data.shape"
   ]
  },
  {
   "cell_type": "code",
   "execution_count": 114,
   "metadata": {},
   "outputs": [
    {
     "data": {
      "text/plain": [
       "78037"
      ]
     },
     "execution_count": 114,
     "metadata": {},
     "output_type": "execute_result"
    }
   ],
   "source": [
    "# Inspect whether the Cases column is unique ID. Based on comparison with dataframe shape, we can find Cases is not unique ID.\n",
    "# After inspection of data, we can find that rows sharing same cases ID is the case that has different values in OffTypeAll column.\n",
    "data['Cases'].nunique()"
   ]
  },
  {
   "cell_type": "code",
   "execution_count": 115,
   "metadata": {},
   "outputs": [],
   "source": [
    "# Inspect whether city column only contain Hennepin county data\n",
    "# Since there are some format differences for the same city, we need to remove tailing white spaces and cases\n",
    "a = data['City'].str.rstrip().str.title().sort_values()"
   ]
  },
  {
   "cell_type": "code",
   "execution_count": 116,
   "metadata": {},
   "outputs": [
    {
     "data": {
      "text/plain": [
       "225"
      ]
     },
     "execution_count": 116,
     "metadata": {},
     "output_type": "execute_result"
    }
   ],
   "source": [
    "# The City column contains cities that don't belong to HC\n",
    "a.nunique()"
   ]
  },
  {
   "cell_type": "code",
   "execution_count": 117,
   "metadata": {},
   "outputs": [],
   "source": [
    "# List HC cities, there are 45 cities in HC according to the county official site\n",
    "HC_cities = ['Bloomington', 'Brooklyn Center', 'Brooklyn Park', 'Champlin', 'Chanhassen', 'Corcoran', 'Crystal', 'Dayton', 'Deephaven', 'Eden Prairie', 'Edina', 'Excelsior', 'Golden Valley', 'Greenfield', 'Greenwood', 'Hanover', 'Hopkins', 'Independence', 'Long Lake', 'Loretto', 'Maple Grove', 'Maple Plain', 'Medicine Lake', 'Medina', 'Minneapolis', 'Minnetonka', 'Minnetonka Beach', 'Minnetrista', 'Mound', 'New Hope', 'Orono', 'Osseo', 'Plymouth', 'Richfield', 'Robbinsdale', 'Rockford', 'Rogers', 'St. Anthony', 'St. Bonifacius', 'St. Louis Park', 'Shorewood', 'Spring Park', 'Tonka Bay', 'Wayzata', 'Woodland']"
   ]
  },
  {
   "cell_type": "code",
   "execution_count": 118,
   "metadata": {},
   "outputs": [],
   "source": [
    "# Create County-City relationship file\n",
    "cities = pd.DataFrame({'CityId': range(45), 'County': 'Hennepin', 'City': HC_cities})\n",
    "cities.to_csv('HC_city_list.csv', index = False)"
   ]
  },
  {
   "cell_type": "code",
   "execution_count": 119,
   "metadata": {},
   "outputs": [],
   "source": [
    "# Create new city column with aligned format, and filter rows belongs to HC\n",
    "data['City_new'] = data['City'].str.rstrip().str.title()\n",
    "HC_data = data.loc[data['City_new'].isin(HC_cities)]"
   ]
  },
  {
   "cell_type": "code",
   "execution_count": 120,
   "metadata": {},
   "outputs": [
    {
     "data": {
      "text/plain": [
       "(80297, 29)"
      ]
     },
     "execution_count": 120,
     "metadata": {},
     "output_type": "execute_result"
    }
   ],
   "source": [
    "# There are 80297 rows left after filtering\n",
    "HC_data.shape"
   ]
  },
  {
   "cell_type": "code",
   "execution_count": 102,
   "metadata": {},
   "outputs": [
    {
     "name": "stdout",
     "output_type": "stream",
     "text": [
      "2019-12-31 16:17:41.707000\n",
      "2015-01-02 00:00:00\n"
     ]
    }
   ],
   "source": [
    "# Inspect Time Span of HC Justice data\n",
    "print(HC_data['Case Open'].max())\n",
    "print(HC_data['Case Open'].min())"
   ]
  },
  {
   "cell_type": "code",
   "execution_count": 121,
   "metadata": {},
   "outputs": [],
   "source": [
    "# In order to do yearly and monthly analysis, we need to extract Year and YearMonth from Case Open column\n",
    "HC_data['Year'] = HC_data['Case Open'].dt.year\n",
    "HC_data['YearMonth'] = HC_data['Case Open'].dt.strftime('%Y-%m')"
   ]
  },
  {
   "cell_type": "code",
   "execution_count": 122,
   "metadata": {},
   "outputs": [],
   "source": [
    "# Filter, extract and store yearly data\n",
    "HC_data.to_csv('HC_Justice_2015-2019.csv', index = None)"
   ]
  },
  {
   "cell_type": "code",
   "execution_count": 132,
   "metadata": {},
   "outputs": [],
   "source": [
    "# Function to transform raw dashboard data at once\n",
    "\n",
    "def Justice_tranform(filename):\n",
    "    data = pd.read_excel(filename)\n",
    "    data['City_new'] = data['City'].str.rstrip().str.title()\n",
    "    HC_data = data.loc[data['City_new'].isin(HC_cities)]\n",
    "    HC_data['Year'] = HC_data['Case Open'].dt.year\n",
    "    HC_data['YearMonth'] = HC_data['Case Open'].dt.strftime('%Y-%m')\n",
    "    Yr_max = str(HC_data['Case Open'].max().year)\n",
    "    Yr_min = str(HC_data['Case Open'].min().year)\n",
    "    HC_data.to_csv('HC_Justice_' + Yr_min + '-' + Yr_max + '.csv', index = None)\n",
    "    \n",
    "    return None"
   ]
  },
  {
   "cell_type": "code",
   "execution_count": 133,
   "metadata": {},
   "outputs": [],
   "source": [
    "Justice_tranform('Attorney dashboard data.xlsx')"
   ]
  }
 ],
 "metadata": {
  "kernelspec": {
   "display_name": "Python 3",
   "language": "python",
   "name": "python3"
  },
  "language_info": {
   "codemirror_mode": {
    "name": "ipython",
    "version": 3
   },
   "file_extension": ".py",
   "mimetype": "text/x-python",
   "name": "python",
   "nbconvert_exporter": "python",
   "pygments_lexer": "ipython3",
   "version": "3.7.4"
  }
 },
 "nbformat": 4,
 "nbformat_minor": 2
}
